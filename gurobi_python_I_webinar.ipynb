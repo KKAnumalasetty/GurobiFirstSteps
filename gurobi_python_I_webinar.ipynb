{
 "cells": [
  {
   "cell_type": "heading",
   "metadata": {},
   "level": 1,
   "source": [
    "First example model"
   ]
  },
  {
   "cell_type": "code",
   "execution_count": 1,
   "metadata": {
    "collapsed": true
   },
   "outputs": [],
   "source": [
    "from gurobipy import *"
   ]
  },
  {
   "cell_type": "code",
   "execution_count": 3,
   "metadata": {},
   "outputs": [],
   "source": [
    "model = read(\"/Library/gurobi800/mac64/examples/data/afiro.mps\")\n"
   ]
  },
  {
   "cell_type": "code",
   "execution_count": 4,
   "metadata": {},
   "outputs": [
    {
     "name": "stdout",
     "output_type": "stream",
     "text": [
      "Optimize a model with 27 rows, 32 columns and 83 nonzeros\n"
     ]
    },
    {
     "name": "stdout",
     "output_type": "stream",
     "text": [
      "Coefficient statistics:\n"
     ]
    },
    {
     "name": "stdout",
     "output_type": "stream",
     "text": [
      "  Matrix range     [1e-01, 2e+00]\n"
     ]
    },
    {
     "name": "stdout",
     "output_type": "stream",
     "text": [
      "  Objective range  [3e-01, 1e+01]\n"
     ]
    },
    {
     "name": "stdout",
     "output_type": "stream",
     "text": [
      "  Bounds range     [0e+00, 0e+00]\n"
     ]
    },
    {
     "name": "stdout",
     "output_type": "stream",
     "text": [
      "  RHS range        [4e+01, 5e+02]\n"
     ]
    },
    {
     "name": "stdout",
     "output_type": "stream",
     "text": [
      "Presolve removed 18 rows and 20 columns\n"
     ]
    },
    {
     "name": "stdout",
     "output_type": "stream",
     "text": [
      "Presolve time: 0.03s\n"
     ]
    },
    {
     "name": "stdout",
     "output_type": "stream",
     "text": [
      "Presolved: 9 rows, 12 columns, 32 nonzeros\n"
     ]
    },
    {
     "name": "stdout",
     "output_type": "stream",
     "text": [
      "\n"
     ]
    },
    {
     "name": "stdout",
     "output_type": "stream",
     "text": [
      "Iteration    Objective       Primal Inf.    Dual Inf.      Time\n"
     ]
    },
    {
     "name": "stdout",
     "output_type": "stream",
     "text": [
      "       0   -5.9751945e+02   5.541356e+01   0.000000e+00      0s\n"
     ]
    },
    {
     "name": "stdout",
     "output_type": "stream",
     "text": [
      "       6   -4.6475314e+02   0.000000e+00   0.000000e+00      0s\n"
     ]
    },
    {
     "name": "stdout",
     "output_type": "stream",
     "text": [
      "\n"
     ]
    },
    {
     "name": "stdout",
     "output_type": "stream",
     "text": [
      "Solved in 6 iterations and 0.06 seconds\n"
     ]
    },
    {
     "name": "stdout",
     "output_type": "stream",
     "text": [
      "Optimal objective -4.647531429e+02\n"
     ]
    }
   ],
   "source": [
    "model.optimize()"
   ]
  },
  {
   "cell_type": "code",
   "execution_count": 5,
   "metadata": {},
   "outputs": [
    {
     "data": {
      "text/plain": [
       "-464.75314285714285"
      ]
     },
     "execution_count": 5,
     "metadata": {},
     "output_type": "execute_result"
    }
   ],
   "source": [
    "model.ObjVal"
   ]
  },
  {
   "cell_type": "code",
   "execution_count": 6,
   "metadata": {},
   "outputs": [
    {
     "name": "stdout",
     "output_type": "stream",
     "text": [
      "\n"
     ]
    },
    {
     "name": "stdout",
     "output_type": "stream",
     "text": [
      "    Variable            X \n"
     ]
    },
    {
     "name": "stdout",
     "output_type": "stream",
     "text": [
      "-------------------------\n"
     ]
    },
    {
     "name": "stdout",
     "output_type": "stream",
     "text": [
      "         X01           80 \n"
     ]
    },
    {
     "name": "stdout",
     "output_type": "stream",
     "text": [
      "         X02         25.5 \n"
     ]
    },
    {
     "name": "stdout",
     "output_type": "stream",
     "text": [
      "         X03         54.5 \n"
     ]
    },
    {
     "name": "stdout",
     "output_type": "stream",
     "text": [
      "         X04         84.8 \n"
     ]
    },
    {
     "name": "stdout",
     "output_type": "stream",
     "text": [
      "         X06      18.2143 \n"
     ]
    },
    {
     "name": "stdout",
     "output_type": "stream",
     "text": [
      "         X14      18.2143 \n"
     ]
    },
    {
     "name": "stdout",
     "output_type": "stream",
     "text": [
      "         X16      19.3071 \n"
     ]
    },
    {
     "name": "stdout",
     "output_type": "stream",
     "text": [
      "         X22          500 \n"
     ]
    }
   ],
   "source": [
    "model.printAttr('X')"
   ]
  },
  {
   "cell_type": "heading",
   "metadata": {},
   "level": 1,
   "source": [
    "Create and Solving First Model #1"
   ]
  },
  {
   "cell_type": "markdown",
   "metadata": {},
   "source": [
    "- limit is 4 hours\n",
    "-- Activity 1 takes 1 hour\n",
    "-- Activity 2 takes 2 hours\n",
    "-- Activity 3 takes 3 hours\n",
    "- decide about three activities and aim for maximum value\n",
    "- need to choose min. activity 1 and/or 2\n",
    "- activity 3 is woth twice as much as 1 and 2\n",
    "- max(x+y+2z), x+2y+3z<=4, x+y >= 1\n"
   ]
  },
  {
   "cell_type": "code",
   "execution_count": 7,
   "metadata": {},
   "outputs": [],
   "source": [
    "from gurobipy import *"
   ]
  },
  {
   "cell_type": "code",
   "execution_count": 15,
   "metadata": {},
   "outputs": [],
   "source": [
    "m = Model()"
   ]
  },
  {
   "cell_type": "code",
   "execution_count": 16,
   "metadata": {},
   "outputs": [],
   "source": [
    "x = m.addVar(vtype=GRB.BINARY, name=\"x\")\n",
    "y = m.addVar(vtype=GRB.BINARY, name=\"y\") \n",
    "z = m.addVar(vtype=GRB.BINARY, name=\"z\")"
   ]
  },
  {
   "cell_type": "heading",
   "metadata": {},
   "level": 1,
   "source": [
    "Set objective function"
   ]
  },
  {
   "cell_type": "code",
   "execution_count": 17,
   "metadata": {},
   "outputs": [],
   "source": [
    "m.setObjective(x + y + 2*z, GRB.MAXIMIZE)"
   ]
  },
  {
   "cell_type": "heading",
   "metadata": {},
   "level": 1,
   "source": [
    "Add constraints"
   ]
  },
  {
   "cell_type": "code",
   "execution_count": 18,
   "metadata": {},
   "outputs": [],
   "source": [
    "c1 = m.addConstr(x + 2*y + 3*z <= 4)\n",
    "c2 = m.addConstr(x + y >= 1)"
   ]
  },
  {
   "cell_type": "heading",
   "metadata": {},
   "level": 2,
   "source": [
    "Solve model"
   ]
  },
  {
   "cell_type": "code",
   "execution_count": 19,
   "metadata": {},
   "outputs": [
    {
     "name": "stdout",
     "output_type": "stream",
     "text": [
      "Optimize a model with 2 rows, 3 columns and 5 nonzeros\n"
     ]
    },
    {
     "name": "stdout",
     "output_type": "stream",
     "text": [
      "Variable types: 0 continuous, 3 integer (3 binary)\n"
     ]
    },
    {
     "name": "stdout",
     "output_type": "stream",
     "text": [
      "Coefficient statistics:\n"
     ]
    },
    {
     "name": "stdout",
     "output_type": "stream",
     "text": [
      "  Matrix range     [1e+00, 3e+00]\n"
     ]
    },
    {
     "name": "stdout",
     "output_type": "stream",
     "text": [
      "  Objective range  [1e+00, 2e+00]\n"
     ]
    },
    {
     "name": "stdout",
     "output_type": "stream",
     "text": [
      "  Bounds range     [1e+00, 1e+00]\n"
     ]
    },
    {
     "name": "stdout",
     "output_type": "stream",
     "text": [
      "  RHS range        [1e+00, 4e+00]\n"
     ]
    },
    {
     "name": "stdout",
     "output_type": "stream",
     "text": [
      "Found heuristic solution: objective 2.0000000\n"
     ]
    },
    {
     "name": "stdout",
     "output_type": "stream",
     "text": [
      "Presolve removed 2 rows and 3 columns\n"
     ]
    }
   ],
   "source": [
    "m.optimize()"
   ]
  },
  {
   "cell_type": "code",
   "execution_count": 20,
   "metadata": {},
   "outputs": [
    {
     "name": "stdout",
     "output_type": "stream",
     "text": [
      "\n"
     ]
    },
    {
     "name": "stdout",
     "output_type": "stream",
     "text": [
      "    Variable            X \n"
     ]
    },
    {
     "name": "stdout",
     "output_type": "stream",
     "text": [
      "-------------------------\n"
     ]
    },
    {
     "name": "stdout",
     "output_type": "stream",
     "text": [
      "           x            1 \n"
     ]
    },
    {
     "name": "stdout",
     "output_type": "stream",
     "text": [
      "           z            1 \n"
     ]
    }
   ],
   "source": [
    "m.printAttr('X')"
   ]
  },
  {
   "cell_type": "heading",
   "metadata": {},
   "level": 1,
   "source": [
    "Do some factory Planing"
   ]
  },
  {
   "cell_type": "code",
   "execution_count": 21,
   "metadata": {},
   "outputs": [],
   "source": [
    "from gurobipy import *\n",
    "\n",
    "# tested with Python 3.5.2 & Gurobi 7.0.1\n",
    "\n",
    "products = [\"Prod1\", \"Prod2\", \"Prod3\", \"Prod4\", \"Prod5\", \"Prod6\", \"Prod7\"]\n",
    "machines = [\"grinder\", \"vertDrill\", \"horiDrill\", \"borer\", \"planer\"]\n",
    "time_periods = [\"January\", \"February\", \"March\", \"April\", \"May\", \"June\"]\n",
    "\n",
    "profit_contribution = {\"Prod1\":10, \"Prod2\":6, \"Prod3\":8, \"Prod4\":4, \"Prod5\":11, \"Prod6\":9, \"Prod7\":3}\n",
    "\n",
    "time_table = {\n",
    "    \"grinder\": {    \"Prod1\": 0.5, \"Prod2\": 0.7, \"Prod5\": 0.3,\n",
    "                    \"Prod6\": 0.2, \"Prod7\": 0.5 },\n",
    "    \"vertDrill\": {  \"Prod1\": 0.1, \"Prod2\": 0.2, \"Prod4\": 0.3,\n",
    "                    \"Prod6\": 0.6 },\n",
    "    \"horiDrill\": {  \"Prod1\": 0.2, \"Prod3\": 0.8, \"Prod7\": 0.6 },\n",
    "    \"borer\": {      \"Prod1\": 0.05,\"Prod2\": 0.03,\"Prod4\": 0.07,\n",
    "                    \"Prod5\": 0.1, \"Prod7\": 0.08 },\n",
    "    \"planer\": {     \"Prod3\": 0.01,\"Prod5\": 0.05,\"Prod7\": 0.05 }\n",
    "}\n"
   ]
  },
  {
   "cell_type": "code",
   "execution_count": 22,
   "metadata": {},
   "outputs": [],
   "source": [
    "# number of machines down\n",
    "down = {(\"January\",\"grinder\"): 1, (\"February\", \"horiDrill\"): 2, (\"March\", \"borer\"): 1,\n",
    "        (\"April\", \"vertDrill\"): 1, (\"May\", \"grinder\"): 1, (\"May\", \"vertDrill\"): 1,\n",
    "        (\"June\", \"planer\"): 1, (\"June\", \"horiDrill\"): 1}\n",
    "\n",
    "# number of each machine available\n",
    "qMachine = {\"grinder\":4, \"vertDrill\":2, \"horiDrill\":3, \"borer\":1, \"planer\":1} \n",
    "\n",
    "# market limitation of sells\n",
    "upper = {\n",
    "    (\"January\", \"Prod1\") : 500,\n",
    "    (\"January\", \"Prod2\") : 1000,\n",
    "    (\"January\", \"Prod3\") : 300,\n",
    "    (\"January\", \"Prod4\") : 300,\n",
    "    (\"January\", \"Prod5\") : 800,\n",
    "    (\"January\", \"Prod6\") : 200,\n",
    "    (\"January\", \"Prod7\") : 100,\n",
    "    (\"February\", \"Prod1\") : 600,\n",
    "    (\"February\", \"Prod2\") : 500,\n",
    "    (\"February\", \"Prod3\") : 200,\n",
    "    (\"February\", \"Prod4\") : 0,\n",
    "    (\"February\", \"Prod5\") : 400,\n",
    "    (\"February\", \"Prod6\") : 300,\n",
    "    (\"February\", \"Prod7\") : 150,\n",
    "    (\"March\", \"Prod1\") : 300,\n",
    "    (\"March\", \"Prod2\") : 600,\n",
    "    (\"March\", \"Prod3\") : 0,\n",
    "    (\"March\", \"Prod4\") : 0,\n",
    "    (\"March\", \"Prod5\") : 500,\n",
    "    (\"March\", \"Prod6\") : 400,\n",
    "    (\"March\", \"Prod7\") : 100,\n",
    "    (\"April\", \"Prod1\") : 200,\n",
    "    (\"April\", \"Prod2\") : 300,\n",
    "    (\"April\", \"Prod3\") : 400,\n",
    "    (\"April\", \"Prod4\") : 500,\n",
    "    (\"April\", \"Prod5\") : 200,\n",
    "    (\"April\", \"Prod6\") : 0,\n",
    "    (\"April\", \"Prod7\") : 100,\n",
    "    (\"May\", \"Prod1\") : 0,\n",
    "    (\"May\", \"Prod2\") : 100,\n",
    "    (\"May\", \"Prod3\") : 500,\n",
    "    (\"May\", \"Prod4\") : 100,\n",
    "    (\"May\", \"Prod5\") : 1000,\n",
    "    (\"May\", \"Prod6\") : 300,\n",
    "    (\"May\", \"Prod7\") : 0,\n",
    "    (\"June\", \"Prod1\") : 500,\n",
    "    (\"June\", \"Prod2\") : 500,\n",
    "    (\"June\", \"Prod3\") : 100,\n",
    "    (\"June\", \"Prod4\") : 300,\n",
    "    (\"June\", \"Prod5\") : 1100,\n",
    "    (\"June\", \"Prod6\") : 500,\n",
    "    (\"June\", \"Prod7\") : 60,\n",
    "}\n",
    "\n",
    "\n",
    "storeCost = 0.5\n",
    "storeCapacity = 100\n",
    "endStock = 50\n",
    "hoursPerMonth = 2*8*24"
   ]
  },
  {
   "cell_type": "code",
   "execution_count": 23,
   "metadata": {},
   "outputs": [],
   "source": [
    "model = Model('Factory Planning I')\n",
    "\n",
    "manu = model.addVars(time_periods, products, name=\"Manu\") # quantity manufactured\n",
    "held = model.addVars(time_periods, products, ub=storeCapacity, name=\"Held\") # quantity stored\n",
    "sell = model.addVars(time_periods, products, ub=upper, name=\"Sell\") # quantity sold"
   ]
  },
  {
   "cell_type": "code",
   "execution_count": 24,
   "metadata": {},
   "outputs": [
    {
     "data": {
      "text/plain": [
       "{('Prod1', 'February'): <gurobi.Constr *Awaiting Model Update*>,\n ('Prod1', 'March'): <gurobi.Constr *Awaiting Model Update*>,\n ('Prod1', 'April'): <gurobi.Constr *Awaiting Model Update*>,\n ('Prod1', 'May'): <gurobi.Constr *Awaiting Model Update*>,\n ('Prod1', 'June'): <gurobi.Constr *Awaiting Model Update*>,\n ('Prod2', 'February'): <gurobi.Constr *Awaiting Model Update*>,\n ('Prod2', 'March'): <gurobi.Constr *Awaiting Model Update*>,\n ('Prod2', 'April'): <gurobi.Constr *Awaiting Model Update*>,\n ('Prod2', 'May'): <gurobi.Constr *Awaiting Model Update*>,\n ('Prod2', 'June'): <gurobi.Constr *Awaiting Model Update*>,\n ('Prod3', 'February'): <gurobi.Constr *Awaiting Model Update*>,\n ('Prod3', 'March'): <gurobi.Constr *Awaiting Model Update*>,\n ('Prod3', 'April'): <gurobi.Constr *Awaiting Model Update*>,\n ('Prod3', 'May'): <gurobi.Constr *Awaiting Model Update*>,\n ('Prod3', 'June'): <gurobi.Constr *Awaiting Model Update*>,\n ('Prod4', 'February'): <gurobi.Constr *Awaiting Model Update*>,\n ('Prod4', 'March'): <gurobi.Constr *Awaiting Model Update*>,\n ('Prod4', 'April'): <gurobi.Constr *Awaiting Model Update*>,\n ('Prod4', 'May'): <gurobi.Constr *Awaiting Model Update*>,\n ('Prod4', 'June'): <gurobi.Constr *Awaiting Model Update*>,\n ('Prod5', 'February'): <gurobi.Constr *Awaiting Model Update*>,\n ('Prod5', 'March'): <gurobi.Constr *Awaiting Model Update*>,\n ('Prod5', 'April'): <gurobi.Constr *Awaiting Model Update*>,\n ('Prod5', 'May'): <gurobi.Constr *Awaiting Model Update*>,\n ('Prod5', 'June'): <gurobi.Constr *Awaiting Model Update*>,\n ('Prod6', 'February'): <gurobi.Constr *Awaiting Model Update*>,\n ('Prod6', 'March'): <gurobi.Constr *Awaiting Model Update*>,\n ('Prod6', 'April'): <gurobi.Constr *Awaiting Model Update*>,\n ('Prod6', 'May'): <gurobi.Constr *Awaiting Model Update*>,\n ('Prod6', 'June'): <gurobi.Constr *Awaiting Model Update*>,\n ('Prod7', 'February'): <gurobi.Constr *Awaiting Model Update*>,\n ('Prod7', 'March'): <gurobi.Constr *Awaiting Model Update*>,\n ('Prod7', 'April'): <gurobi.Constr *Awaiting Model Update*>,\n ('Prod7', 'May'): <gurobi.Constr *Awaiting Model Update*>,\n ('Prod7', 'June'): <gurobi.Constr *Awaiting Model Update*>}"
      ]
     },
     "execution_count": 24,
     "metadata": {},
     "output_type": "execute_result"
    }
   ],
   "source": [
    "# Initial Balance\n",
    "model.addConstrs((manu[time_periods[0], product] == sell[time_periods[0], product] \n",
    "                  + held[time_periods[0], product] for product in products), name=\"Initial_Balance\")\n",
    "    \n",
    "#Balance\n",
    "model.addConstrs((held[time_periods[time_periods.index(time_period) -1], product] + \n",
    "                manu[time_period, product] == sell[time_period, product] + held[time_period, product] \n",
    "                for product in products for time_period in time_periods \n",
    "                if time_period != time_periods[0]), name=\"Balance\")"
   ]
  },
  {
   "cell_type": "code",
   "execution_count": 25,
   "metadata": {},
   "outputs": [
    {
     "data": {
      "text/plain": [
       "{'Prod1': <gurobi.Constr *Awaiting Model Update*>,\n 'Prod2': <gurobi.Constr *Awaiting Model Update*>,\n 'Prod3': <gurobi.Constr *Awaiting Model Update*>,\n 'Prod4': <gurobi.Constr *Awaiting Model Update*>,\n 'Prod5': <gurobi.Constr *Awaiting Model Update*>,\n 'Prod6': <gurobi.Constr *Awaiting Model Update*>,\n 'Prod7': <gurobi.Constr *Awaiting Model Update*>}"
      ]
     },
     "execution_count": 25,
     "metadata": {},
     "output_type": "execute_result"
    }
   ],
   "source": [
    "#End store\n",
    "model.addConstrs((held[time_periods[-1], product] == endStock for product in products),  name=\"End_Balance\")"
   ]
  },
  {
   "cell_type": "code",
   "execution_count": 26,
   "metadata": {},
   "outputs": [
    {
     "data": {
      "text/plain": [
       "{('grinder', 'February'): <gurobi.Constr *Awaiting Model Update*>,\n ('grinder', 'March'): <gurobi.Constr *Awaiting Model Update*>,\n ('grinder', 'April'): <gurobi.Constr *Awaiting Model Update*>,\n ('grinder', 'June'): <gurobi.Constr *Awaiting Model Update*>,\n ('vertDrill', 'January'): <gurobi.Constr *Awaiting Model Update*>,\n ('vertDrill', 'February'): <gurobi.Constr *Awaiting Model Update*>,\n ('vertDrill', 'March'): <gurobi.Constr *Awaiting Model Update*>,\n ('vertDrill', 'June'): <gurobi.Constr *Awaiting Model Update*>,\n ('horiDrill', 'January'): <gurobi.Constr *Awaiting Model Update*>,\n ('horiDrill', 'March'): <gurobi.Constr *Awaiting Model Update*>,\n ('horiDrill', 'April'): <gurobi.Constr *Awaiting Model Update*>,\n ('horiDrill', 'May'): <gurobi.Constr *Awaiting Model Update*>,\n ('borer', 'January'): <gurobi.Constr *Awaiting Model Update*>,\n ('borer', 'February'): <gurobi.Constr *Awaiting Model Update*>,\n ('borer', 'April'): <gurobi.Constr *Awaiting Model Update*>,\n ('borer', 'May'): <gurobi.Constr *Awaiting Model Update*>,\n ('borer', 'June'): <gurobi.Constr *Awaiting Model Update*>,\n ('planer', 'January'): <gurobi.Constr *Awaiting Model Update*>,\n ('planer', 'February'): <gurobi.Constr *Awaiting Model Update*>,\n ('planer', 'March'): <gurobi.Constr *Awaiting Model Update*>,\n ('planer', 'April'): <gurobi.Constr *Awaiting Model Update*>,\n ('planer', 'May'): <gurobi.Constr *Awaiting Model Update*>}"
      ]
     },
     "execution_count": 26,
     "metadata": {},
     "output_type": "execute_result"
    }
   ],
   "source": [
    "# Capacity\n",
    "model.addConstrs((quicksum(time_table[machine][product] * manu[time_period, product] \n",
    "\tfor product in time_table[machine]) <= hoursPerMonth * (qMachine[machine] - \n",
    "\tdown[time_period, machine]) for machine in machines for time_period in time_periods \n",
    "\tif (time_period, machine) in down), name = \"Capacity\")\n",
    "\n",
    "model.addConstrs((quicksum(time_table[machine][product] * manu[time_period, product] \n",
    "\tfor product in time_table[machine]) <= hoursPerMonth * qMachine[machine] \n",
    "    for machine in machines for time_period in time_periods \n",
    "    if (time_period, machine) not in down), name = \"Capacity\")"
   ]
  },
  {
   "cell_type": "code",
   "execution_count": 27,
   "metadata": {},
   "outputs": [],
   "source": [
    "# Objective\n",
    "obj = quicksum(\n",
    "\t  profit_contribution[product] * sell[time_period, product] -  \n",
    "\t  storeCost * held[time_period, product]  \n",
    "\t  for time_period in time_periods for product in products)\n",
    "\n",
    "model.setObjective(obj, GRB.MAXIMIZE)"
   ]
  },
  {
   "cell_type": "code",
   "execution_count": 28,
   "metadata": {},
   "outputs": [
    {
     "name": "stdout",
     "output_type": "stream",
     "text": [
      "Optimize a model with 79 rows, 126 columns and 288 nonzeros\n"
     ]
    },
    {
     "name": "stdout",
     "output_type": "stream",
     "text": [
      "Coefficient statistics:\n"
     ]
    },
    {
     "name": "stdout",
     "output_type": "stream",
     "text": [
      "  Matrix range     [1e-02, 1e+00]\n"
     ]
    },
    {
     "name": "stdout",
     "output_type": "stream",
     "text": [
      "  Objective range  [5e-01, 1e+01]\n"
     ]
    },
    {
     "name": "stdout",
     "output_type": "stream",
     "text": [
      "  Bounds range     [6e+01, 1e+03]\n"
     ]
    },
    {
     "name": "stdout",
     "output_type": "stream",
     "text": [
      "  RHS range        [5e+01, 2e+03]\n"
     ]
    },
    {
     "name": "stdout",
     "output_type": "stream",
     "text": [
      "Presolve removed 74 rows and 110 columns\n"
     ]
    },
    {
     "name": "stdout",
     "output_type": "stream",
     "text": [
      "Presolve time: 0.01s\n"
     ]
    },
    {
     "name": "stdout",
     "output_type": "stream",
     "text": [
      "Presolved: 5 rows, 16 columns, 21 nonzeros\n"
     ]
    },
    {
     "name": "stdout",
     "output_type": "stream",
     "text": [
      "\n"
     ]
    },
    {
     "name": "stdout",
     "output_type": "stream",
     "text": [
      "Iteration    Objective       Primal Inf.    Dual Inf.      Time\n"
     ]
    },
    {
     "name": "stdout",
     "output_type": "stream",
     "text": [
      "       0    1.2466500e+05   3.640000e+02   0.000000e+00      0s\n"
     ]
    },
    {
     "name": "stdout",
     "output_type": "stream",
     "text": [
      "       2    9.3715179e+04   0.000000e+00   0.000000e+00      0s\n"
     ]
    },
    {
     "name": "stdout",
     "output_type": "stream",
     "text": [
      "\n"
     ]
    },
    {
     "name": "stdout",
     "output_type": "stream",
     "text": [
      "Solved in 2 iterations and 0.02 seconds\n"
     ]
    },
    {
     "name": "stdout",
     "output_type": "stream",
     "text": [
      "Optimal objective  9.371517857e+04\n"
     ]
    },
    {
     "name": "stdout",
     "output_type": "stream",
     "text": [
      "Manu[January,Prod1] 500.000000\nManu[January,Prod2] 888.571429\nManu[January,Prod3] 382.500000\nManu[January,Prod4] 300.000000\nManu[January,Prod5] 800.000000\nManu[January,Prod6] 200.000000\nManu[February,Prod1] 700.000000\nManu[February,Prod2] 600.000000\nManu[February,Prod3] 117.500000\nManu[February,Prod5] 500.000000\nManu[February,Prod6] 300.000000\nManu[February,Prod7] 250.000000\nManu[March,Prod6] 400.000000\nManu[April,Prod1] 200.000000\nManu[April,Prod2] 300.000000\nManu[April,Prod3] 400.000000\nManu[April,Prod4] 500.000000\nManu[April,Prod5] 200.000000\nManu[April,Prod7] 100.000000\nManu[May,Prod2] 100.000000\nManu[May,Prod3] 600.000000\nManu[May,Prod4] 100.000000\nManu[May,Prod5] 1100.000000\nManu[May,Prod6] 300.000000\nManu[May,Prod7] 100.000000\nManu[June,Prod1] 550.000000\nManu[June,Prod2] 550.000000\nManu[June,Prod4] 350.000000\nManu[June,Prod6] 550.000000\nHeld[January,Prod3] 82.500000\nHeld[February,Prod1] 100.000000\nHeld[February,Prod2] 100.000000\nHeld[February,Prod5] 100.000000\nHeld[February,Prod7] 100.000000\nHeld[May,Prod3] 100.000000\nHeld[May,Prod5] 100.000000\nHeld[May,Prod7] 100.000000\nHeld[June,Prod1] 50.000000\nHeld[June,Prod2] 50.000000\nHeld[June,Prod3] 50.000000\nHeld[June,Prod4] 50.000000\nHeld[June,Prod5] 50.000000\nHeld[June,Prod6] 50.000000\nHeld[June,Prod7] 50.000000\nSell[January,Prod1] 500.000000\nSell[January,Prod2] 888.571429\nSell[January,Prod3] 300.000000\nSell[January,Prod4] 300.000000\nSell[January,Prod5] 800.000000\nSell[January,Prod6] 200.000000\nSell[February,Prod1] 600.000000\nSell[February,Prod2] 500.000000\nSell[February,Prod3] 200.000000\nSell[February,Prod5] 400.000000\nSell[February,Prod6] 300.000000\nSell[February,Prod7] 150.000000\nSell[March,Prod1] 100.000000\nSell[March,Prod2] 100.000000\nSell[March,Prod5] 100.000000\nSell[March,Prod6] 400.000000\nSell[March,Prod7] 100.000000\nSell[April,Prod1] 200.000000\nSell[April,Prod2] 300.000000\nSell[April,Prod3] 400.000000\nSell[April,Prod4] 500.000000\nSell[April,Prod5] 200.000000\nSell[April,Prod7] 100.000000\nSell[May,Prod2] 100.000000\nSell[May,Prod3] 500.000000\nSell[May,Prod4] 100.000000\nSell[May,Prod5] 1000.000000\nSell[May,Prod6] 300.000000\nSell[June,Prod1] 500.000000\nSell[June,Prod2] 500.000000\nSell[June,Prod3] 50.000000\nSell[June,Prod4] 300.000000\nSell[June,Prod5] 50.000000\nSell[June,Prod6] 500.000000\nSell[June,Prod7] 50.000000\n"
     ]
    }
   ],
   "source": [
    "model.optimize()\n",
    "for v in model.getVars():\n",
    "    if v.X != 0:\n",
    "        print(\"%s %f\" % (v.Varname, v.X))"
   ]
  },
  {
   "cell_type": "code",
   "execution_count": null,
   "metadata": {},
   "outputs": [],
   "source": []
  }
 ],
 "metadata": {
  "kernelspec": {
   "display_name": "Python 2",
   "language": "python",
   "name": "python2"
  },
  "language_info": {
   "codemirror_mode": {
    "name": "ipython",
    "version": 2
   },
   "file_extension": ".py",
   "mimetype": "text/x-python",
   "name": "python",
   "nbconvert_exporter": "python",
   "pygments_lexer": "ipython2",
   "version": "2.7.6"
  }
 },
 "nbformat": 4,
 "nbformat_minor": 0
}
